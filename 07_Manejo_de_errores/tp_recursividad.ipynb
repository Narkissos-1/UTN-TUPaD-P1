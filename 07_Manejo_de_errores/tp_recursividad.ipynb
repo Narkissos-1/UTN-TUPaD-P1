{
 "cells": [
  {
   "cell_type": "markdown",
   "id": "7016f29d",
   "metadata": {},
   "source": [
    "1) Crea una función recursiva que calcule el factorial de un número. Luego, utiliza esa\n",
    "función para calcular y mostrar en pantalla el factorial de todos los números enteros\n",
    "entre 1 y el número que indique el usuario"
   ]
  },
  {
   "cell_type": "code",
   "execution_count": null,
   "id": "4dd27ac9",
   "metadata": {},
   "outputs": [],
   "source": [
    "def factorial(n):\n",
    "    if n == 1:\n",
    "        return 1\n",
    "    return n * factorial(n - 1)\n",
    "\n",
    "numero = int(input(\"Ingrese un número: \"))\n",
    "for i in range(1, numero + 1):\n",
    "    print(f\"{i}! = {factorial(i)}\")\n"
   ]
  },
  {
   "cell_type": "markdown",
   "id": "6b519219",
   "metadata": {},
   "source": [
    "2) Crea una función recursiva que calcule el valor de la serie de Fibonacci en la posición\n",
    "indicada. Posteriormente, muestra la serie completa hasta la posición que el usuario\n",
    "especifique"
   ]
  },
  {
   "cell_type": "code",
   "execution_count": null,
   "id": "b629d80b",
   "metadata": {},
   "outputs": [],
   "source": [
    "def fibonacci(n):\n",
    "    if n <= 1:\n",
    "        return n\n",
    "    return fibonacci(n - 1) + fibonacci(n - 2)\n",
    "\n",
    "pos = int(input(\"Ingrese la posición hasta la cual desea la serie: \"))\n",
    "for i in range(pos + 1):\n",
    "    print(fibonacci(i), end=' ')\n"
   ]
  },
  {
   "cell_type": "markdown",
   "id": "7e20d080",
   "metadata": {},
   "source": [
    "3) Crea una función recursiva que calcule la potencia de un número base elevado a un\n",
    "exponente, utilizando la fórmula 𝑛\n",
    "𝑚 = 𝑛 ∗ 𝑛\n",
    "(𝑚−1)\n",
    ". Prueba esta función en un\n",
    "algoritmo general."
   ]
  },
  {
   "cell_type": "code",
   "execution_count": null,
   "id": "b8cb26d3",
   "metadata": {},
   "outputs": [],
   "source": [
    "def potencia(base, exponente):\n",
    "    if exponente == 0:\n",
    "        return 1\n",
    "    return base * potencia(base, exponente - 1)\n",
    "\n",
    "print(potencia(3, 4))\n"
   ]
  },
  {
   "cell_type": "markdown",
   "id": "cf01f354",
   "metadata": {},
   "source": [
    "4) Crear una función recursiva en Python que reciba un número entero positivo en base\n",
    "decimal y devuelva su representación en binario como una cadena de texto.\n"
   ]
  },
  {
   "cell_type": "code",
   "execution_count": null,
   "id": "8fb2b8ba",
   "metadata": {},
   "outputs": [],
   "source": [
    "def decimal_a_binario(n):\n",
    "    if n == 0:\n",
    "        return \"\"\n",
    "    return decimal_a_binario(n // 2) + str(n % 2)\n",
    "\n",
    "numero = int(input(\"Ingrese un número en base decimal: \"))\n",
    "binario = decimal_a_binario(numero)\n",
    "print(binario if binario else \"0\")\n"
   ]
  },
  {
   "cell_type": "markdown",
   "id": "48c33aaa",
   "metadata": {},
   "source": [
    "5) Implementá una función recursiva llamada es_palindromo(palabra) que reciba una\n",
    "cadena de texto sin espacios ni tildes, y devuelva True si es un palíndromo o False si no\n",
    "lo es.\n",
    " Requisitos:\n",
    "La solución debe ser recursiva.\n",
    "No se debe usar [::-1] ni la función reversed().\n"
   ]
  },
  {
   "cell_type": "code",
   "execution_count": null,
   "id": "fd62edf6",
   "metadata": {},
   "outputs": [],
   "source": [
    "def es_palindromo(palabra):\n",
    "    if len(palabra) <= 1:\n",
    "        return True\n",
    "    if palabra[0] != palabra[-1]:\n",
    "        return False\n",
    "    return es_palindromo(palabra[1:-1])\n",
    "\n",
    "print(es_palindromo(\"reconocer\"))\n"
   ]
  },
  {
   "cell_type": "markdown",
   "id": "efeafacb",
   "metadata": {},
   "source": [
    "6) Escribí una función recursiva en Python llamada suma_digitos(n) que reciba un\n",
    "número entero positivo y devuelva la suma de todos sus dígitos.\n",
    " Restricciones:\n",
    "No se puede convertir el número a string.\n",
    "Usá operaciones matemáticas (%, //) y recursión.\n",
    "Ejemplos:\n",
    "suma_digitos(1234) → 10 (1 + 2 + 3 + 4)\n",
    "suma_digitos(9) → 9\n",
    "suma_digitos(305) → 8 (3 + 0 + 5)"
   ]
  },
  {
   "cell_type": "code",
   "execution_count": null,
   "id": "0a73eb40",
   "metadata": {},
   "outputs": [],
   "source": [
    "def suma_digitos(n):\n",
    "    if n < 10:\n",
    "        return n\n",
    "    return n % 10 + suma_digitos(n // 10)\n",
    "\n",
    "print(suma_digitos(305))\n"
   ]
  },
  {
   "cell_type": "markdown",
   "id": "65179215",
   "metadata": {},
   "source": [
    "7) Un niño está construyendo una pirámide con bloques. En el nivel más bajo coloca n\n",
    "bloques, en el siguiente nivel uno menos (n - 1), y así sucesivamente hasta llegar al\n",
    "último nivel con un solo bloque.\n"
   ]
  },
  {
   "cell_type": "code",
   "execution_count": null,
   "id": "dd6f1406",
   "metadata": {},
   "outputs": [],
   "source": [
    "def contar_bloques(n):\n",
    "    if n == 1:\n",
    "        return 1\n",
    "    return n + contar_bloques(n - 1)\n",
    "\n",
    "print(contar_bloques(4))\n"
   ]
  },
  {
   "cell_type": "markdown",
   "id": "422293e8",
   "metadata": {},
   "source": [
    "8) Escribí una función recursiva llamada contar_digito(numero, digito) que reciba un\n",
    "número entero positivo (numero) y un dígito (entre 0 y 9), y devuelva cuántas veces\n",
    "aparece ese dígito dentro del número.\n",
    " Ejemplos:\n",
    "contar_digito(12233421, 2) → 3\n",
    "contar_digito(5555, 5) → 4 \n",
    "contar_digito(123456, 7) → 0 "
   ]
  },
  {
   "cell_type": "code",
   "execution_count": null,
   "id": "1f9b316c",
   "metadata": {},
   "outputs": [],
   "source": [
    "def contar_digito(numero, digito):\n",
    "    if numero == 0:\n",
    "        return 0\n",
    "    return (1 if numero % 10 == digito else 0) + contar_digito(numero // 10, digito)\n",
    "\n",
    "print(contar_digito(12233421, 2))\n"
   ]
  }
 ],
 "metadata": {
  "language_info": {
   "name": "python"
  }
 },
 "nbformat": 4,
 "nbformat_minor": 5
}
