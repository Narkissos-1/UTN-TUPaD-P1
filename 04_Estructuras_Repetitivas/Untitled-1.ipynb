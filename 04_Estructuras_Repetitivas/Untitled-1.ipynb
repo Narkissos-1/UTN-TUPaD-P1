{
 "cells": [
  {
   "cell_type": "markdown",
   "id": "faf3382d",
   "metadata": {},
   "source": [
    "1) Crea un programa que imprima en pantalla todos los números enteros desde 0 hasta 100\n",
    "(incluyendo ambos extremos), en orden creciente, mostrando un número por línea."
   ]
  },
  {
   "cell_type": "code",
   "execution_count": null,
   "id": "d077f286",
   "metadata": {},
   "outputs": [],
   "source": [
    "\n",
    "for i in range(0, 101):\n",
    "    print(i, end=\", \")\n"
   ]
  },
  {
   "cell_type": "markdown",
   "id": "5fa6d0da",
   "metadata": {},
   "source": [
    "2) Desarrolla un programa que solicite al usuario un número entero y determine la cantidad de\n",
    "dígitos que contiene."
   ]
  },
  {
   "cell_type": "code",
   "execution_count": 4,
   "id": "de1b5c8c",
   "metadata": {},
   "outputs": [
    {
     "name": "stdout",
     "output_type": "stream",
     "text": [
      "Tiene 2 dígitos\n"
     ]
    }
   ],
   "source": [
    "entero = int(input('Ingrese un número: '))\n",
    "cantidad_digitos = len(str(entero))\n",
    "print(f'Tiene {cantidad_digitos} dígitos')\n"
   ]
  },
  {
   "cell_type": "markdown",
   "id": "9fe3bec0",
   "metadata": {},
   "source": [
    "3) Escribe un programa que sume todos los números enteros comprendidos entre dos valores\n",
    "dados por el usuario, excluyendo esos dos valores."
   ]
  },
  {
   "cell_type": "code",
   "execution_count": null,
   "id": "d20909fb",
   "metadata": {},
   "outputs": [],
   "source": [
    "# Paso 1: Pedimos los dos números al usuario\n",
    "a = int(input(\"Ingrese el primer número: \"))\n",
    "b = int(input(\"Ingrese el segundo número: \"))\n",
    "\n",
    "# Paso 2: Aseguramos que 'a' sea el menor y 'b' el mayor (los ordenamos)\n",
    "if a > b:\n",
    "    a, b = b, a  # intercambiamos los valores\n",
    "\n",
    "# Paso 3: Usamos un rango que empiece en a+1 y termine en b (excluye b automáticamente)\n",
    "suma = 0\n",
    "for i in range(a + 1, b):\n",
    "    suma += i  # vamos sumando cada número\n",
    "\n",
    "# Paso 4: Mostramos el resultado\n",
    "print(f\"La suma de los enteros entre {a} y {b} es: {suma}\")\n",
    "\n"
   ]
  },
  {
   "cell_type": "markdown",
   "id": "34420184",
   "metadata": {},
   "source": [
    "4) Elabora un programa que permita al usuario ingresar números enteros y los sume en\n",
    "secuencia. El programa debe detenerse y mostrar el total acumulado cuando el usuario ingrese\n",
    "un 0."
   ]
  },
  {
   "cell_type": "code",
   "execution_count": 1,
   "id": "25a0e0fa",
   "metadata": {},
   "outputs": [
    {
     "name": "stdout",
     "output_type": "stream",
     "text": [
      "Total acumulado: 23596\n"
     ]
    }
   ],
   "source": [
    "total = 0\n",
    "while True:\n",
    "    numero = int(input(\"Ingrese un número (0 para terminar): \"))\n",
    "    if numero == 0:\n",
    "        break\n",
    "    total += numero\n",
    "print(\"Total acumulado:\", total)"
   ]
  },
  {
   "cell_type": "markdown",
   "id": "ea59a1e8",
   "metadata": {},
   "source": [
    "5) Crea un juego en el que el usuario deba adivinar un número aleatorio entre 0 y 9. Al final, el\n",
    "programa debe mostrar cuántos intentos fueron necesarios para acertar el número."
   ]
  },
  {
   "cell_type": "code",
   "execution_count": null,
   "id": "59c6ff37",
   "metadata": {},
   "outputs": [],
   "source": [
    "import random\n",
    "\n",
    "secreto = random.randint(0, 9)\n",
    "intentos = 0\n",
    "\n",
    "while True:\n",
    "    intento = int(input(\"Adivine el número (0 a 9): \"))\n",
    "    intentos += 1\n",
    "    if intento == secreto:\n",
    "        break\n",
    "print(\"¡Adivinaste en\", intentos, \"intentos!\")"
   ]
  },
  {
   "cell_type": "markdown",
   "id": "d764451b",
   "metadata": {},
   "source": [
    "6) Desarrolla un programa que imprima en pantalla todos los números pares comprendidos\n",
    "entre 0 y 100, en orden decreciente."
   ]
  },
  {
   "cell_type": "code",
   "execution_count": null,
   "id": "aa7072f6",
   "metadata": {},
   "outputs": [],
   "source": [
    "for i in range(100, -1, -1):\n",
    "    if i % 2 == 0:\n",
    "        print(i)"
   ]
  },
  {
   "cell_type": "markdown",
   "id": "dc40c487",
   "metadata": {},
   "source": [
    "7) Crea un programa que calcule la suma de todos los números comprendidos entre 0 y un\n",
    "número entero positivo indicado por el usuario."
   ]
  },
  {
   "cell_type": "code",
   "execution_count": null,
   "id": "5228c9b3",
   "metadata": {},
   "outputs": [],
   "source": [
    "n = int(input(\"Ingrese un número positivo: \"))\n",
    "suma = sum(range(n + 1))\n",
    "print(\"La suma es:\", suma)"
   ]
  },
  {
   "cell_type": "markdown",
   "id": "2c5fe9f4",
   "metadata": {},
   "source": [
    "8) Escribe un programa que permita al usuario ingresar 100 números enteros. Luego, el\n",
    "programa debe indicar cuántos de estos números son pares, cuántos son impares, cuántos son\n",
    "negativos y cuántos son positivos. (Nota: para probar el programa puedes usar una cantidad\n",
    "menor, pero debe estar preparado para procesar 100 números con un solo cambio)."
   ]
  },
  {
   "cell_type": "code",
   "execution_count": null,
   "id": "25729fde",
   "metadata": {},
   "outputs": [],
   "source": [
    "for _ in range(cantidad):\n",
    "    num = int(input(\"Ingrese un número: \"))\n",
    "    if num % 2 == 0:\n",
    "        pares += 1\n",
    "    else:\n",
    "        impares += 1\n",
    "    if num < 0:\n",
    "        negativos += 1\n",
    "    elif num > 0:\n",
    "        positivos += 1\n",
    "\n",
    "print(\"Pares:\", pares)\n",
    "print(\"Impares:\", impares)\n",
    "print(\"Negativos:\", negativos)\n",
    "print(\"Positivos:\", positivos)"
   ]
  },
  {
   "cell_type": "markdown",
   "id": "2a6b1693",
   "metadata": {},
   "source": [
    "9) Elabora un programa que permita al usuario ingresar 100 números enteros y luego calcule la\n",
    "media de esos valores. (Nota: puedes probar el programa con una cantidad menor, pero debe\n",
    "poder procesar 100 números cambiando solo un valor)."
   ]
  },
  {
   "cell_type": "code",
   "execution_count": null,
   "id": "4ea05c4a",
   "metadata": {},
   "outputs": [],
   "source": [
    "suma = 0\n",
    "cantidad = 100\n",
    "\n",
    "for _ in range(cantidad):\n",
    "    num = int(input(\"Ingrese un número: \"))\n",
    "    suma += num\n",
    "\n",
    "media = suma / cantidad\n",
    "print(\"Media:\", media)"
   ]
  },
  {
   "cell_type": "markdown",
   "id": "5eed80b8",
   "metadata": {},
   "source": [
    "10) Escribe un programa que invierta el orden de los dígitos de un número ingresado por el\n",
    "usuario. Ejemplo: si el usuario ingresa 547, el programa debe mostrar 745."
   ]
  },
  {
   "cell_type": "code",
   "execution_count": 2,
   "id": "f764dc56",
   "metadata": {},
   "outputs": [
    {
     "name": "stdout",
     "output_type": "stream",
     "text": [
      "Número invertido: 432\n"
     ]
    }
   ],
   "source": [
    "numero = input(\"Ingrese un número: \")\n",
    "invertido = numero[::-1]\n",
    "print(\"Número invertido:\", invertido)"
   ]
  },
  {
   "cell_type": "markdown",
   "id": "c071d8fe",
   "metadata": {},
   "source": [
    "aa"
   ]
  }
 ],
 "metadata": {
  "kernelspec": {
   "display_name": "Python 3",
   "language": "python",
   "name": "python3"
  },
  "language_info": {
   "codemirror_mode": {
    "name": "ipython",
    "version": 3
   },
   "file_extension": ".py",
   "mimetype": "text/x-python",
   "name": "python",
   "nbconvert_exporter": "python",
   "pygments_lexer": "ipython3",
   "version": "3.12.10"
  }
 },
 "nbformat": 4,
 "nbformat_minor": 5
}
