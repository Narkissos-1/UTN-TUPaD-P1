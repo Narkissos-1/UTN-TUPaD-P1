{
 "cells": [
  {
   "cell_type": "markdown",
   "id": "ee96d10d",
   "metadata": {},
   "source": [
    "1) Escribir un programa que solicite la edad del usuario. Si el usuario es mayor de 18 años,\n",
    "deberá mostrar un mensaje en pantalla que diga “Es mayor de edad”.\n"
   ]
  },
  {
   "cell_type": "code",
   "execution_count": null,
   "id": "303e4a39",
   "metadata": {},
   "outputs": [],
   "source": [
    "edad = int(input('ingrese su edad: '))\n",
    "if edad >= 18:\n",
    "    print(\"Es mayor de edad\")"
   ]
  },
  {
   "cell_type": "markdown",
   "id": "fcadab9b",
   "metadata": {},
   "source": [
    "2) Escribir un programa que solicite su nota al usuario. Si la nota es mayor o igual a 6, deberá\n",
    "mostrar por pantalla un mensaje que diga “Aprobado”; en caso contrario deberá mostrar el\n",
    "mensaje “Desaprobado”.\n"
   ]
  },
  {
   "cell_type": "code",
   "execution_count": 2,
   "id": "694fea91",
   "metadata": {},
   "outputs": [
    {
     "name": "stdout",
     "output_type": "stream",
     "text": [
      "Aprobado\n"
     ]
    }
   ],
   "source": [
    "nota = int(input('ingrese su nota: '))\n",
    "if nota >= 6:\n",
    "    print('Aprobado')\n",
    "else:\n",
    "    print('Desaprobado')"
   ]
  },
  {
   "cell_type": "markdown",
   "id": "4fa0fc70",
   "metadata": {},
   "source": [
    "3) Escribir un programa que permita ingresar solo números pares. Si el usuario ingresa un\n",
    "número par, imprimir por en pantalla el mensaje \"Ha ingresado un número par\"; en caso\n",
    "contrario, imprimir por pantalla \"Por favor, ingrese un número par\". Nota: investigar el uso del\n",
    "operador de módulo (%) en Python para evaluar si un número es par o impar.\n"
   ]
  },
  {
   "cell_type": "code",
   "execution_count": 6,
   "id": "cab0d169",
   "metadata": {},
   "outputs": [
    {
     "name": "stdout",
     "output_type": "stream",
     "text": [
      "Ha ingresado un número par\n"
     ]
    }
   ],
   "source": [
    "numero = int(input('ingrese un numero par: '))\n",
    "if numero % 2 == 0:\n",
    "    print('Ha ingresado un número par')\n",
    "else:\n",
    "    print('Ha ingresado un número impar')\n"
   ]
  },
  {
   "cell_type": "markdown",
   "id": "0eb043ec",
   "metadata": {},
   "source": [
    "4) Escribir un programa que solicite al usuario su edad e imprima por pantalla a cuál de las\n",
    "siguientes categorías pertenece:\n",
    "● Niño/a: menor de 12 años.\n",
    "● Adolescente: mayor o igual que 12 años y menor que 18 años.\n",
    "● Adulto/a joven: mayor o igual que 18 años y menor que 30 años.\n",
    "● Adulto/a: mayor o igual que 30 años.\n"
   ]
  },
  {
   "cell_type": "code",
   "execution_count": 12,
   "id": "2214e4a7",
   "metadata": {},
   "outputs": [
    {
     "name": "stdout",
     "output_type": "stream",
     "text": [
      "niño\n"
     ]
    }
   ],
   "source": [
    "edad = int(input('ingrese una edad: '))\n",
    "if edad < 12:\n",
    "    print('niño')\n",
    "elif 12 <= edad <= 18:\n",
    "    print('adolecente')\n",
    "elif 18 <= edad < 30:\n",
    "    print('joven')\n",
    "else:\n",
    "    print('adulto')"
   ]
  },
  {
   "cell_type": "markdown",
   "id": "c3d01c85",
   "metadata": {},
   "source": [
    "5) Escribir un programa que permita introducir contraseñas de entre 8 y 14 caracteres\n",
    "(incluyendo 8 y 14). Si el usuario ingresa una contraseña de longitud adecuada, imprimir por en\n",
    "pantalla el mensaje \"Ha ingresado una contraseña correcta\"; en caso contrario, imprimir por\n",
    "pantalla \"Por favor, ingrese una contraseña de entre 8 y 14 caracteres\". Nota: investigue el uso\n",
    "de la función len() en Python para evaluar la cantidad de elementos que tiene un iterable tal\n",
    "como una lista o un string.\n"
   ]
  },
  {
   "cell_type": "code",
   "execution_count": 14,
   "id": "ce00163a",
   "metadata": {},
   "outputs": [
    {
     "name": "stdout",
     "output_type": "stream",
     "text": [
      "Por favor, ingrese una contraseña de entre 8 y 14 caracteres\n"
     ]
    }
   ],
   "source": [
    "contrasena = input(\"Ingrese una contraseña de entre 8 y 14 caracteres: \")\n",
    "if 8 <= len(contrasena) <= 14:\n",
    "    print(\"Ha ingresado una contraseña correcta\")\n",
    "else:\n",
    "    print(\"Por favor, ingrese una contraseña de entre 8 y 14 caracteres\")\n",
    "\n"
   ]
  }
 ],
 "metadata": {
  "kernelspec": {
   "display_name": "Python 3",
   "language": "python",
   "name": "python3"
  },
  "language_info": {
   "codemirror_mode": {
    "name": "ipython",
    "version": 3
   },
   "file_extension": ".py",
   "mimetype": "text/x-python",
   "name": "python",
   "nbconvert_exporter": "python",
   "pygments_lexer": "ipython3",
   "version": "3.13.3"
  }
 },
 "nbformat": 4,
 "nbformat_minor": 5
}
