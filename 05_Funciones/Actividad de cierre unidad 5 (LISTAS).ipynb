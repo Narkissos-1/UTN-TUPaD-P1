{
 "cells": [
  {
   "cell_type": "markdown",
   "id": "d8e2ff83",
   "metadata": {},
   "source": [
    "1) Crear una lista con los números del 1 al 100 que sean múltiplos de 4. Utilizar la función\n",
    "range.\n"
   ]
  },
  {
   "cell_type": "code",
   "execution_count": null,
   "id": "1dcaa866",
   "metadata": {},
   "outputs": [
    {
     "name": "stdout",
     "output_type": "stream",
     "text": [
      "[4, 8, 12, 16, 20, 24, 28, 32, 36, 40, 44, 48, 52, 56, 60, 64, 68, 72, 76, 80, 84, 88, 92, 96, 100]\n"
     ]
    }
   ],
   "source": [
    "\n",
    "multiplos_de_4 = list(range(4, 101, 4))\n",
    "print(multiplos_de_4)\n"
   ]
  },
  {
   "cell_type": "markdown",
   "id": "929c7e2f",
   "metadata": {},
   "source": [
    "2) Crear una lista con cinco elementos (colocar los elementos que más te gusten) y mostrar el\n",
    "penúltimo. ¡Puedes hacerlo como se muestra en los videos o bien investigar cómo funciona el\n",
    "indexing con números negativos!\n"
   ]
  },
  {
   "cell_type": "code",
   "execution_count": null,
   "id": "1638ca1f",
   "metadata": {},
   "outputs": [
    {
     "name": "stdout",
     "output_type": "stream",
     "text": [
      "pizza\n"
     ]
    }
   ],
   "source": [
    "\n",
    "cosas_favoritas = [\"lol\", \"gym\", \"compu\", \"pizza\", \"leer\"]\n",
    "print(cosas_favoritas[-2])  \n"
   ]
  },
  {
   "cell_type": "markdown",
   "id": "a3208904",
   "metadata": {},
   "source": [
    "3) Crear una lista vacía, agregar tres palabras con append e imprimir la lista resultante por\n",
    "pantalla. Pista: para crear una lista vacía debes colocar los corchetes sin nada en su interior. Por\n",
    "ejemplo:\n",
    "lista_vacia = []"
   ]
  },
  {
   "cell_type": "code",
   "execution_count": null,
   "id": "24296536",
   "metadata": {},
   "outputs": [
    {
     "name": "stdout",
     "output_type": "stream",
     "text": [
      "['sol', 'nube', 'lluvia']\n"
     ]
    }
   ],
   "source": [
    "\n",
    "lista_vacia = []\n",
    "lista_vacia.append(\"sol\")\n",
    "lista_vacia.append(\"nube\")\n",
    "lista_vacia.append(\"lluvia\")\n",
    "print(lista_vacia)\n"
   ]
  },
  {
   "cell_type": "markdown",
   "id": "301031a8",
   "metadata": {},
   "source": [
    "4) Reemplazar el segundo y último valor de la lista “animales” con las palabras “loro” y “oso”,\n",
    "respectivamente. Imprimir la lista resultante por pantalla. ¡Puedes hacerlo como se muestra\n",
    "en los videos o bien investigar cómo funciona el indexing con números negativos!\n",
    "animales = [\"perro\", \"gato\", \"conejo\", \"pez\"]"
   ]
  },
  {
   "cell_type": "code",
   "execution_count": null,
   "id": "774a15cf",
   "metadata": {},
   "outputs": [
    {
     "name": "stdout",
     "output_type": "stream",
     "text": [
      "['perro', 'loro', 'conejo', 'oso']\n"
     ]
    }
   ],
   "source": [
    "\n",
    "animales = [\"perro\", \"gato\", \"conejo\", \"pez\"]\n",
    "animales[1] = \"loro\"     \n",
    "animales[-1] = \"oso\"     \n",
    "print(animales)\n"
   ]
  },
  {
   "cell_type": "markdown",
   "id": "e6ad3512",
   "metadata": {},
   "source": [
    "5) Analizar el siguiente programa y explicar con tus palabras qué es lo que realiza."
   ]
  },
  {
   "cell_type": "code",
   "execution_count": 6,
   "id": "75c852e9",
   "metadata": {},
   "outputs": [
    {
     "name": "stdout",
     "output_type": "stream",
     "text": [
      "[8, 15, 3, 7]\n"
     ]
    }
   ],
   "source": [
    "numeros = [8, 15, 3, 22, 7]\n",
    "numeros.remove(max(numeros))\n",
    "print(numeros)\n"
   ]
  },
  {
   "cell_type": "markdown",
   "id": "29276d2f",
   "metadata": {},
   "source": [
    "6) Crear una lista con números del 10 al 30 (incluído), haciendo saltos de 5 en 5 y mostrar por\n",
    "pantalla los dos primeros."
   ]
  },
  {
   "cell_type": "code",
   "execution_count": null,
   "id": "68ebd4b8",
   "metadata": {},
   "outputs": [
    {
     "name": "stdout",
     "output_type": "stream",
     "text": [
      "[10, 15]\n"
     ]
    }
   ],
   "source": [
    "\n",
    "numeros = list(range(10, 31, 5))\n",
    "print(numeros[:2])  \n"
   ]
  },
  {
   "cell_type": "markdown",
   "id": "9eb47287",
   "metadata": {},
   "source": [
    "7) Reemplazar los dos valores centrales (índices 1 y 2) de la lista “autos” por dos nuevos valores\n",
    "cualesquiera.\n",
    "autos = [\"sedan\", \"polo\", \"suran\", \"gol\"]"
   ]
  },
  {
   "cell_type": "code",
   "execution_count": null,
   "id": "bb690dee",
   "metadata": {},
   "outputs": [],
   "source": [
    "\n",
    "autos = [\"sedan\", \"polo\", \"suran\", \"gol\"]\n",
    "autos[1:3] = [\"mustang\", \"civic\"]\n",
    "print(autos)\n"
   ]
  },
  {
   "cell_type": "markdown",
   "id": "9f5ed405",
   "metadata": {},
   "source": [
    "8) Crear una lista vacía llamada \"dobles\" y agregar el doble de 5, 10 y 15 usando append\n",
    "directamente. Imprimir la lista resultante por pantalla.\n"
   ]
  },
  {
   "cell_type": "code",
   "execution_count": null,
   "id": "a68d739c",
   "metadata": {},
   "outputs": [],
   "source": [
    "\n",
    "dobles = []\n",
    "dobles.append(5 * 2)\n",
    "dobles.append(10 * 2)\n",
    "dobles.append(15 * 2)\n",
    "print(dobles)\n"
   ]
  },
  {
   "cell_type": "markdown",
   "id": "a98a1179",
   "metadata": {},
   "source": [
    "9) Dada la lista “compras”, cuyos elementos representan los productos comprados por\n",
    "diferentes clientes:\n",
    "compras = [[\"pan\", \"leche\"], [\"arroz\", \"fideos\", \"salsa\"],\n",
    "[\"agua\"]]\n",
    "a) Agregar \"jugo\" a la lista del tercer cliente usando append.\n",
    "b) Reemplazar \"fideos\" por \"tallarines\" en la lista del segundo cliente.\n",
    "c) Eliminar \"pan\" de la lista del primer cliente.\n",
    "d) Imprimir la lista resultante por pantalla"
   ]
  },
  {
   "cell_type": "code",
   "execution_count": null,
   "id": "9466ca63",
   "metadata": {},
   "outputs": [],
   "source": [
    "\n",
    "compras = [[\"pan\", \"leche\"], [\"arroz\", \"fideos\", \"salsa\"], [\"agua\"]]\n",
    "\n",
    "compras[2].append(\"jugo\")\n",
    "\n",
    "compras[1][1] = \"tallarines\"\n",
    "\n",
    "compras[0].remove(\"pan\")\n",
    "\n",
    "print(compras)\n"
   ]
  },
  {
   "cell_type": "markdown",
   "id": "7b26037e",
   "metadata": {},
   "source": [
    "10) Elaborar una lista anidada llamada “lista_anidada” que contenga los siguientes elementos:\n",
    "● Posición lista_anidada[0]: 15\n",
    "● Posición lista_anidada[1]: True\n",
    "● Posición lista_anidada[2][0]: 25.5\n",
    "● Posición lista_anidada[2][1]: 57.9\n",
    "● Posición lista_anidada[2][2]: 30.6\n",
    "● Posición lista_anidada[3]: False\n",
    "Imprimir la lista resultante por pantalla.\n"
   ]
  },
  {
   "cell_type": "code",
   "execution_count": null,
   "id": "0c8e3d02",
   "metadata": {},
   "outputs": [],
   "source": [
    "# Actividad 10\n",
    "lista_anidada = [15, True, [25.5, 57.9, 30.6], False]\n",
    "print(lista_anidada)\n"
   ]
  }
 ],
 "metadata": {
  "kernelspec": {
   "display_name": "Python 3",
   "language": "python",
   "name": "python3"
  },
  "language_info": {
   "codemirror_mode": {
    "name": "ipython",
    "version": 3
   },
   "file_extension": ".py",
   "mimetype": "text/x-python",
   "name": "python",
   "nbconvert_exporter": "python",
   "pygments_lexer": "ipython3",
   "version": "3.12.10"
  }
 },
 "nbformat": 4,
 "nbformat_minor": 5
}
