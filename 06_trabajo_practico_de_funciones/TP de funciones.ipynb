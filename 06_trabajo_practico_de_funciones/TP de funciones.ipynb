{
 "cells": [
  {
   "cell_type": "markdown",
   "id": "05567200",
   "metadata": {},
   "source": [
    "1. Crear una función llamada imprimir_hola_mundo que imprima por\n",
    "pantalla el mensaje: “Hola Mundo!”. Llamar a esta función desde el\n",
    "programa principal.\n"
   ]
  },
  {
   "cell_type": "code",
   "execution_count": 1,
   "id": "78efc10a",
   "metadata": {},
   "outputs": [
    {
     "name": "stdout",
     "output_type": "stream",
     "text": [
      "Hola Mundo!\n"
     ]
    }
   ],
   "source": [
    "def imprimir_hola_mundo():\n",
    "    print(\"Hola Mundo!\")\n",
    "\n",
    "imprimir_hola_mundo()\n"
   ]
  },
  {
   "cell_type": "markdown",
   "id": "215d4d40",
   "metadata": {},
   "source": [
    "2. Crear una función llamada saludar_usuario(nombre) que reciba\n",
    "como parámetro un nombre y devuelva un saludo personalizado.\n",
    "Por ejemplo, si se llama con saludar_usuario(\"Marcos\"), deberá devolver: “Hola Marcos!”. Llamar a esta función desde el programa\n",
    "principal solicitando el nombre al usuario."
   ]
  },
  {
   "cell_type": "code",
   "execution_count": null,
   "id": "f0b6b2c3",
   "metadata": {},
   "outputs": [],
   "source": [
    "def saludar_usuario(nombre):\n",
    "    return f\"Hola {nombre}!\"\n",
    "\n",
    "nombre = input(\"Ingrese su nombre: \")\n",
    "print(saludar_usuario(nombre))\n"
   ]
  },
  {
   "cell_type": "markdown",
   "id": "adaa0d23",
   "metadata": {},
   "source": [
    "3. Crear una función llamada informacion_personal(nombre, apellido,\n",
    "edad, residencia) que reciba cuatro parámetros e imprima: “Soy\n",
    "[nombre] [apellido], tengo [edad] años y vivo en [residencia]”. Pedir los datos al usuario y llamar a esta función con los valores ingresados."
   ]
  },
  {
   "cell_type": "code",
   "execution_count": null,
   "id": "554feb56",
   "metadata": {},
   "outputs": [],
   "source": [
    "def informacion_personal(nombre, apellido, edad, residencia):\n",
    "    print(f\"Soy {nombre} {apellido}, tengo {edad} años y vivo en {residencia}\")\n",
    "\n",
    "nombre = input(\"Nombre: \")\n",
    "apellido = input(\"Apellido: \")\n",
    "edad = input(\"Edad: \")\n",
    "residencia = input(\"Residencia: \")\n",
    "informacion_personal(nombre, apellido, edad, residencia)\n"
   ]
  },
  {
   "cell_type": "markdown",
   "id": "f9a7fa95",
   "metadata": {},
   "source": [
    "4. Crear dos funciones: calcular_area_circulo(radio) que reciba el radio como parámetro y devuelva el área del círculo. calcular_perimetro_circulo(radio) que reciba el radio como parámetro y devuelva el perímetro del círculo. Solicitar el radio al usuario y llamar ambas funciones para mostrar los resultados.\n"
   ]
  },
  {
   "cell_type": "code",
   "execution_count": null,
   "id": "f595df84",
   "metadata": {},
   "outputs": [],
   "source": [
    "import math\n",
    "\n",
    "def calcular_area_circulo(radio):\n",
    "    return math.pi * radio ** 2\n",
    "\n",
    "def calcular_perimetro_circulo(radio):\n",
    "    return 2 * math.pi * radio\n",
    "\n",
    "radio = float(input(\"Ingrese el radio del círculo: \"))\n",
    "print(\"Área:\", calcular_area_circulo(radio))\n",
    "print(\"Perímetro:\", calcular_perimetro_circulo(radio))\n"
   ]
  },
  {
   "cell_type": "markdown",
   "id": "ad180b9b",
   "metadata": {},
   "source": [
    "5. Crear una función llamada segundos_a_horas(segundos) que reciba\n",
    "una cantidad de segundos como parámetro y devuelva la cantidad\n",
    "de horas correspondientes. Solicitar al usuario los segundos y mostrar el resultado usando esta función."
   ]
  },
  {
   "cell_type": "code",
   "execution_count": null,
   "id": "caa20142",
   "metadata": {},
   "outputs": [],
   "source": [
    "def segundos_a_horas(segundos):\n",
    "    return segundos / 3600\n",
    "\n",
    "segundos = int(input(\"Ingrese la cantidad de segundos: \"))\n",
    "print(\"Equivalente en horas:\", segundos_a_horas(segundos))\n"
   ]
  },
  {
   "cell_type": "markdown",
   "id": "488f35de",
   "metadata": {},
   "source": [
    "6. Crear una función llamada tabla_multiplicar(numero) que reciba un\n",
    "número como parámetro y imprima la tabla de multiplicar de ese\n",
    "número del 1 al 10. Pedir al usuario el número y llamar a la función."
   ]
  },
  {
   "cell_type": "code",
   "execution_count": null,
   "id": "17acf452",
   "metadata": {},
   "outputs": [],
   "source": [
    "def tabla_multiplicar(numero):\n",
    "    for i in range(1, 11):\n",
    "        print(f\"{numero} x {i} = {numero * i}\")\n",
    "\n",
    "numero = int(input(\"Ingrese un número: \"))\n",
    "tabla_multiplicar(numero)\n"
   ]
  },
  {
   "cell_type": "markdown",
   "id": "ecdf7570",
   "metadata": {},
   "source": [
    "7. Crear una función llamada operaciones_basicas(a, b) que reciba\n",
    "dos números como parámetros y devuelva una tupla con el resultado de sumarlos, restarlos, multiplicarlos y dividirlos. Mostrar los resultados de forma clara."
   ]
  },
  {
   "cell_type": "code",
   "execution_count": null,
   "id": "9b0f4fc3",
   "metadata": {},
   "outputs": [],
   "source": [
    "def operaciones_basicas(a, b):\n",
    "    return a + b, a - b, a * b, a / b\n",
    "\n",
    "a = float(input(\"Ingrese el primer número: \"))\n",
    "b = float(input(\"Ingrese el segundo número: \"))\n",
    "suma, resta, multi, div = operaciones_basicas(a, b)\n",
    "print(f\"Suma: {suma}, Resta: {resta}, Multiplicación: {multi}, División: {div}\")\n"
   ]
  },
  {
   "cell_type": "markdown",
   "id": "1f887ac8",
   "metadata": {},
   "source": [
    "8. Crear una función llamada calcular_imc(peso, altura) que reciba el\n",
    "peso en kilogramos y la altura en metros, y devuelva el índice de\n",
    "masa corporal (IMC). Solicitar al usuario los datos y llamar a la función para mostrar el resultado con dos decimales.\n"
   ]
  },
  {
   "cell_type": "code",
   "execution_count": null,
   "id": "764a3bfb",
   "metadata": {},
   "outputs": [],
   "source": [
    "def calcular_imc(peso, altura):\n",
    "    return peso / altura ** 2\n",
    "\n",
    "peso = float(input(\"Ingrese su peso en kg: \"))\n",
    "altura = float(input(\"Ingrese su altura en metros: \"))\n",
    "print(\"IMC:\", round(calcular_imc(peso, altura), 2))\n"
   ]
  },
  {
   "cell_type": "markdown",
   "id": "26ae37e3",
   "metadata": {},
   "source": [
    "9. Crear una función llamada celsius_a_fahrenheit(celsius) que reciba\n",
    "una temperatura en grados Celsius y devuelva su equivalente en\n",
    "Fahrenheit. Pedir al usuario la temperatura en Celsius y mostrar el\n",
    "resultado usando la función.\n"
   ]
  },
  {
   "cell_type": "code",
   "execution_count": 2,
   "id": "f107f8ed",
   "metadata": {},
   "outputs": [
    {
     "name": "stdout",
     "output_type": "stream",
     "text": [
      "Fahrenheit: 176.0\n"
     ]
    }
   ],
   "source": [
    "def celsius_a_fahrenheit(celsius):\n",
    "    return (celsius * 9/5) + 32\n",
    "\n",
    "celsius = float(input(\"Ingrese la temperatura en Celsius: \"))\n",
    "print(\"Fahrenheit:\", celsius_a_fahrenheit(celsius))\n"
   ]
  },
  {
   "cell_type": "markdown",
   "id": "22da44a7",
   "metadata": {},
   "source": [
    "10.Crear una función llamada calcular_promedio(a, b, c) que reciba\n",
    "tres números como parámetros y devuelva el promedio de ellos.\n",
    "Solicitar los números al usuario y mostrar el resultado usando esta\n",
    "función."
   ]
  },
  {
   "cell_type": "code",
   "execution_count": null,
   "id": "24988c4a",
   "metadata": {},
   "outputs": [],
   "source": [
    "def calcular_promedio(a, b, c):\n",
    "    return (a + b + c) / 3\n",
    "\n",
    "a = float(input(\"Número 1: \"))\n",
    "b = float(input(\"Número 2: \"))\n",
    "c = float(input(\"Número 3: \"))\n",
    "print(\"Promedio:\", calcular_promedio(a, b, c))\n"
   ]
  }
 ],
 "metadata": {
  "kernelspec": {
   "display_name": "Python 3",
   "language": "python",
   "name": "python3"
  },
  "language_info": {
   "codemirror_mode": {
    "name": "ipython",
    "version": 3
   },
   "file_extension": ".py",
   "mimetype": "text/x-python",
   "name": "python",
   "nbconvert_exporter": "python",
   "pygments_lexer": "ipython3",
   "version": "3.12.10"
  }
 },
 "nbformat": 4,
 "nbformat_minor": 5
}
